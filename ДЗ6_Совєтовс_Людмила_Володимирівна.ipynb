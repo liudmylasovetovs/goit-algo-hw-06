{
  "nbformat": 4,
  "nbformat_minor": 0,
  "metadata": {
    "colab": {
      "provenance": [],
      "authorship_tag": "ABX9TyOBHDfDvwYYrGPVZKgUsHTc",
      "include_colab_link": true
    },
    "kernelspec": {
      "name": "python3",
      "display_name": "Python 3"
    },
    "language_info": {
      "name": "python"
    }
  },
  "cells": [
    {
      "cell_type": "markdown",
      "metadata": {
        "id": "view-in-github",
        "colab_type": "text"
      },
      "source": [
        "<a href=\"https://colab.research.google.com/github/liudmylasovetovs/goit-algo-hw-06/blob/main/%D0%94%D0%976_%D0%A1%D0%BE%D0%B2%D1%94%D1%82%D0%BE%D0%B2%D1%81_%D0%9B%D1%8E%D0%B4%D0%BC%D0%B8%D0%BB%D0%B0_%D0%92%D0%BE%D0%BB%D0%BE%D0%B4%D0%B8%D0%BC%D0%B8%D1%80%D1%96%D0%B2%D0%BD%D0%B0.ipynb\" target=\"_parent\"><img src=\"https://colab.research.google.com/assets/colab-badge.svg\" alt=\"Open In Colab\"/></a>"
      ]
    },
    {
      "cell_type": "markdown",
      "source": [
        "# **Завдання 1**\n",
        "\n",
        "Створіть граф за допомогою бібліотеки networkX для моделювання певної реальної мережі (наприклад, транспортної мережі міста, соціальної мережі, інтернет-топології).\n",
        "\n",
        "\n",
        "\n",
        "> INFO📖 Реальну мережу можна вибрати на свій розсуд, якщо немає можливості придумати свою мережу, наближену до реальності.\n",
        "\n",
        "\n",
        "Візуалізуйте створений граф, проведіть аналіз основних характеристик (наприклад, кількість вершин та ребер, ступінь вершин)."
      ],
      "metadata": {
        "id": "lVXuvNDb_og3"
      }
    },
    {
      "cell_type": "code",
      "source": [
        "import networkx as nx\n",
        "import matplotlib.pyplot as plt\n",
        "import random"
      ],
      "metadata": {
        "id": "DWFhjdyEOVNC"
      },
      "execution_count": null,
      "outputs": []
    },
    {
      "cell_type": "code",
      "source": [
        "# Створення графа\n",
        "G = nx.Graph()\n",
        "# Додавання вершин (осіб)\n",
        "num_nodes = 10\n",
        "G.add_nodes_from(range(1, num_nodes + 1))\n",
        "# Додавання випадкових ребер (зв'язків)\n",
        "num_edges = 15\n",
        "for _ in range(num_edges):\n",
        "    node1, node2 = random.sample(range(1, num_nodes + 1), 2)\n",
        "    G.add_edge(node1, node2)"
      ],
      "metadata": {
        "id": "K4Hh-fKlOrkF"
      },
      "execution_count": null,
      "outputs": []
    },
    {
      "cell_type": "code",
      "source": [
        "# Візуалізація графа\n",
        "pos = nx.spring_layout(G)  # Розташування вершин\n",
        "nx.draw(G, pos, with_labels=True, font_weight='bold', node_size=700, node_color='skyblue', edge_color='gray')\n",
        "plt.title(\"Соціальна мережа\")\n",
        "plt.show()"
      ],
      "metadata": {
        "id": "zx1cDmkOOrry"
      },
      "execution_count": null,
      "outputs": []
    },
    {
      "cell_type": "code",
      "source": [
        "# Аналіз основних характеристик графа\n",
        "print(\"Кількість вершин:\", G.number_of_nodes())\n",
        "print(\"Кількість ребер:\", G.number_of_edges())\n",
        "print(\"Список вершин:\", G.nodes())\n",
        "print(\"Список ребер:\", G.edges())\n",
        "print(\"Ступінь вершин:\", dict(G.degree()))"
      ],
      "metadata": {
        "id": "EN_GsMYnOyZy"
      },
      "execution_count": null,
      "outputs": []
    },
    {
      "cell_type": "markdown",
      "source": [
        "# **Завдання 2**\n",
        "\n",
        "Напишіть програму, яка використовує алгоритми DFS і BFS для знаходження шляхів у графі, який було розроблено у першому завданні.\n",
        "\n",
        "Далі порівняйте результати виконання обох алгоритмів для цього графа, висвітлить різницю в отриманих шляхах. Поясніть, чому шляхи для алгоритмів саме такі."
      ],
      "metadata": {
        "id": "3_sOqpy8O9zT"
      }
    },
    {
      "cell_type": "code",
      "source": [
        "import networkx as nx\n",
        "import matplotlib.pyplot as plt\n",
        "from collections import defaultdict\n",
        "from queue import Queue\n",
        "import random"
      ],
      "metadata": {
        "id": "X9BXpcCKVLrI"
      },
      "execution_count": null,
      "outputs": []
    },
    {
      "cell_type": "code",
      "source": [
        "# Створення графа\n",
        "G = nx.Graph()\n",
        "# Додавання вершин (осіб)\n",
        "num_nodes = 10\n",
        "G.add_nodes_from(range(1, num_nodes + 1))\n",
        "# Додавання випадкових ребер (зв'язків)\n",
        "num_edges = 15\n",
        "for _ in range(num_edges):\n",
        "    node1, node2 = random.sample(range(1, num_nodes + 1), 2)\n",
        "    G.add_edge(node1, node2)"
      ],
      "metadata": {
        "id": "hRkJXnwNVMJL"
      },
      "execution_count": null,
      "outputs": []
    },
    {
      "cell_type": "code",
      "source": [
        "# Візуалізація графа\n",
        "pos = nx.spring_layout(G)  # Розташування вершин\n",
        "nx.draw(G, pos, with_labels=True, font_weight='bold', node_size=700, node_color='skyblue', edge_color='gray')\n",
        "plt.title(\"Соціальна мережа\")\n",
        "plt.show()"
      ],
      "metadata": {
        "id": "KLHmhnYBVWHh"
      },
      "execution_count": null,
      "outputs": []
    },
    {
      "cell_type": "code",
      "source": [
        "# Аналіз основних характеристик графа\n",
        "print(\"Кількість вершин:\", G.number_of_nodes())\n",
        "print(\"Кількість ребер:\", G.number_of_edges())\n",
        "print(\"Список вершин:\", G.nodes())\n",
        "print(\"Список ребер:\", G.edges())\n",
        "print(\"Ступінь вершин:\", dict(G.degree()))"
      ],
      "metadata": {
        "id": "-Q4npIvbVZr8"
      },
      "execution_count": null,
      "outputs": []
    },
    {
      "cell_type": "code",
      "source": [
        "# Реалізація алгоритмів DFS та BFS\n",
        "class Graph:\n",
        "    def __init__(self, G):\n",
        "        self.graph = defaultdict(list)\n",
        "        for edge in G.edges():\n",
        "            self.graph[edge[0]].append(edge[1])\n",
        "            self.graph[edge[1]].append(edge[0])\n",
        "\n",
        "    def dfs(self, start, end, path=[]):\n",
        "        path = path + [start]\n",
        "        if start == end:\n",
        "            return [path]\n",
        "        paths = []\n",
        "        for node in self.graph[start]:\n",
        "            if node not in path:\n",
        "                new_paths = self.dfs(node, end, path)\n",
        "                for p in new_paths:\n",
        "                    paths.append(p)\n",
        "        return paths\n",
        "\n",
        "    def bfs(self, start, end):\n",
        "        queue = Queue()\n",
        "        queue.put([start])\n",
        "        while not queue.empty():\n",
        "            path = queue.get()\n",
        "            node = path[-1]\n",
        "            if node == end:\n",
        "                return path\n",
        "            for adjacent in self.graph[node]:\n",
        "                new_path = list(path)\n",
        "                new_path.append(adjacent)\n",
        "                queue.put(new_path)"
      ],
      "metadata": {
        "id": "qom3_p1zPCMB"
      },
      "execution_count": null,
      "outputs": []
    },
    {
      "cell_type": "code",
      "source": [
        "# Створення об'єкта графа для алгоритмів DFS та BFS\n",
        "graph_obj = Graph(G)\n",
        "# Виклик алгоритмів та виведення результатів\n",
        "start_node = 1\n",
        "end_node = 6\n",
        "\n",
        "dfs_paths = graph_obj.dfs(start_node, end_node)\n",
        "bfs_path = graph_obj.bfs(start_node, end_node)\n",
        "\n",
        "print(\"DFS Paths:\", dfs_paths)\n",
        "print(\"BFS Path:\", bfs_path)\n"
      ],
      "metadata": {
        "id": "yeA1pzCJPCoA"
      },
      "execution_count": null,
      "outputs": []
    },
    {
      "cell_type": "markdown",
      "source": [
        "**Висновки:**\n",
        "\n",
        "### DFS (Depth-First Search):\n",
        "\n",
        "DFS обирає глибокий шлях вглиб графа перед тим, як рухатися в інші гілки. Таким чином, він може вибрати шляхи, які пролягають через більш глибокі вершини графа, що може призводити до довших шляхів.\n",
        "\n",
        "### BFS (Breadth-First Search):\n",
        "\n",
        "BFS, навпаки, рухається шар за шаром по графу, обираючи найкоротший шлях від початкової вершини до цільової."
      ],
      "metadata": {
        "id": "BErUaDUjV7V0"
      }
    },
    {
      "cell_type": "markdown",
      "source": [
        "# **Завдання 3**\n",
        "\n",
        "Реалізуйте алгоритм Дейкстри для знаходження найкоротшого шляху в розробленому графі: додайте у граф ваги до ребер та знайдіть найкоротший шлях між всіма вершинами графа."
      ],
      "metadata": {
        "id": "Vh4W6HaWPDe4"
      }
    },
    {
      "cell_type": "code",
      "source": [
        "import networkx as nx\n",
        "import matplotlib.pyplot as plt\n",
        "import random"
      ],
      "metadata": {
        "id": "HdiKb4xgPHTI"
      },
      "execution_count": null,
      "outputs": []
    },
    {
      "cell_type": "code",
      "source": [
        "# Створення графа\n",
        "G = nx.Graph()\n",
        "# Додавання вершин (осіб)\n",
        "num_nodes = 10\n",
        "G.add_nodes_from(range(1, num_nodes + 1))\n",
        "# Додавання випадкових ребер (зв'язків) з вагами\n",
        "for _ in range(num_edges):\n",
        "    node1, node2 = random.sample(range(1, num_nodes + 1), 2)\n",
        "    weight = random.randint(1, 10)  # Вага ребра\n",
        "    G.add_edge(node1, node2, weight=weight)"
      ],
      "metadata": {
        "id": "vkXZraECPHV3"
      },
      "execution_count": null,
      "outputs": []
    },
    {
      "cell_type": "code",
      "source": [
        "# Візуалізація графа\n",
        "pos = nx.spring_layout(G)  # Розташування вершин\n",
        "nx.draw(G, pos, with_labels=True, font_weight='bold', node_size=700, node_color='skyblue', edge_color='gray')\n",
        "labels = nx.get_edge_attributes(G, 'weight')\n",
        "nx.draw_networkx_edge_labels(G, pos, edge_labels=labels)\n",
        "plt.title(\"Соціальна мережа\")\n",
        "plt.show()"
      ],
      "metadata": {
        "id": "DLJQMcTWPHYu"
      },
      "execution_count": null,
      "outputs": []
    },
    {
      "cell_type": "code",
      "source": [
        "# Знаходження найкоротших шляхів між всіма вершинами графа\n",
        "shortest_paths = dict(nx.all_pairs_dijkstra_path_length(G))"
      ],
      "metadata": {
        "id": "KSHmlzcYPHbh"
      },
      "execution_count": null,
      "outputs": []
    },
    {
      "cell_type": "code",
      "source": [
        "# Виведення результатів\n",
        "for source in range(1, num_nodes + 1):\n",
        "    for target in range(1, num_nodes + 1):\n",
        "        if source != target:\n",
        "            print(f\"Найкоротший шлях між {source} і {target}: {shortest_paths[source][target]}\")"
      ],
      "metadata": {
        "id": "b3c4oI_dPHeQ"
      },
      "execution_count": null,
      "outputs": []
    }
  ]
}